{
 "cells": [
  {
   "cell_type": "markdown",
   "metadata": {},
   "source": [
    "# Игра угадай число"
   ]
  },
  {
   "cell_type": "code",
   "execution_count": 31,
   "metadata": {},
   "outputs": [
    {
     "name": "stdout",
     "output_type": "stream",
     "text": [
      "Ваш алгоритм угадывает число в среднем за 5 попыток\n"
     ]
    }
   ],
   "source": [
    "\"\"\"Игра угадай число\n",
    "Компьютер сам загадывает и сам угадывает число\n",
    "\"\"\"\n",
    "\n",
    "\n",
    "import random\n",
    "\n",
    "def binary_search(number: int) -> int:\n",
    "    \"\"\"Бинарный поиск для угадывания числа\"\"\"\n",
    "    count = 0\n",
    "    low = 1\n",
    "    high = 100\n",
    "    while True:\n",
    "        count += 1\n",
    "        predict_number = (low + high) // 2\n",
    "        if number == predict_number:\n",
    "            return count\n",
    "        elif number > predict_number:\n",
    "            low = predict_number + 1\n",
    "        else:\n",
    "            high = predict_number - 1\n",
    "\n",
    "def score_game(binary_search) -> int:\n",
    "    \"\"\"За какое количество попыток в среднем угадывается число\"\"\"\n",
    "    count_ls = []\n",
    "    random_array = [random.randint(1, 100) for _ in range(1000)]\n",
    "    for number in random_array:\n",
    "        count_ls.append(binary_search(number))\n",
    "    score = int(sum(count_ls) / len(count_ls))\n",
    "    print(f\"Ваш алгоритм угадывает число в среднем за {score} попыток\")\n",
    "    return score\n",
    "\n",
    "if __name__ == \"__main__\":\n",
    "    score_game(binary_search)\n",
    "    "
   ]
  },
  {
   "cell_type": "markdown",
   "metadata": {},
   "source": [
    "## Угадываем рандомно"
   ]
  }
 ],
 "metadata": {
  "kernelspec": {
   "display_name": "Python 3",
   "language": "python",
   "name": "python3"
  },
  "language_info": {
   "codemirror_mode": {
    "name": "ipython",
    "version": 3
   },
   "file_extension": ".py",
   "mimetype": "text/x-python",
   "name": "python",
   "nbconvert_exporter": "python",
   "pygments_lexer": "ipython3",
   "version": "3.10.0"
  },
  "orig_nbformat": 4
 },
 "nbformat": 4,
 "nbformat_minor": 2
}
